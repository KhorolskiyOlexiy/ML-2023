{
 "cells": [
  {
   "cell_type": "code",
   "execution_count": 1,
   "id": "ea62489f",
   "metadata": {},
   "outputs": [],
   "source": [
    "import numpy as np\n",
    "from tensorflow import keras\n",
    "from keras.datasets import imdb\n"
   ]
  },
  {
   "cell_type": "code",
   "execution_count": 3,
   "id": "57e522bc",
   "metadata": {},
   "outputs": [],
   "source": [
    "(train_data, train_labels), (test_data, test_labels) = imdb.load_data(num_words=10000)\n"
   ]
  },
  {
   "cell_type": "code",
   "execution_count": 4,
   "id": "39ebf73c",
   "metadata": {},
   "outputs": [
    {
     "name": "stdout",
     "output_type": "stream",
     "text": [
      "? french horror cinema has seen something of a revival over the last couple of years with great films such as inside and ? romance ? on to the scene ? ? the revival just slightly but stands head and shoulders over most modern horror titles and is surely one of the best french horror films ever made ? was obviously shot on a low budget but this is made up for in far more ways than one by the originality of the film and this in turn is ? by the excellent writing and acting that ensure the film is a winner the plot focuses on two main ideas prison and black magic the central character is a man named ? sent to prison for fraud he is put in a cell with three others the quietly insane ? body building ? marcus and his retarded boyfriend daisy after a short while in the cell together they stumble upon a hiding place in the wall that contains an old ? after ? part of it they soon realise its magical powers and realise they may be able to use it to break through the prison walls br br black magic is a very interesting topic and i'm actually quite surprised that there aren't more films based on it as there's so much scope for things to do with it it's fair to say that ? makes the best of it's ? as despite it's ? the film never actually feels restrained and manages to flow well throughout director eric ? provides a great atmosphere for the film the fact that most of it takes place inside the central prison cell ? that the film feels very claustrophobic and this immensely benefits the central idea of the prisoners wanting to use magic to break out of the cell it's very easy to get behind them it's often said that the unknown is the thing that really ? people and this film proves that as the director ? that we can never really be sure of exactly what is round the corner and this helps to ensure that ? actually does manage to be quite frightening the film is memorable for a lot of reasons outside the central plot the characters are all very interesting in their own way and the fact that the book itself almost takes on its own character is very well done anyone worried that the film won't deliver by the end won't be disappointed either as the ending both makes sense and manages to be quite horrifying overall ? is a truly great horror film and one of the best of the decade highly recommended viewing\n"
     ]
    }
   ],
   "source": [
    "word_index = imdb.get_word_index()\n",
    "reverse_word_index = dict(\n",
    "    [(value, key) for (key, value) in word_index.items()]\n",
    ")\n",
    "decoded_review = ' '.join([reverse_word_index.get(i - 3, '?') for i in train_data[10]])\n",
    "print(decoded_review)"
   ]
  },
  {
   "cell_type": "code",
   "execution_count": 5,
   "id": "c7c93af7",
   "metadata": {},
   "outputs": [],
   "source": [
    "def vectorize_sequences(sequences, dimension=10000):\n",
    "    results = np.zeros((len(sequences), dimension))\n",
    "    for i, sequence in enumerate(sequences):\n",
    "        results[i, sequence] = 1.0\n",
    "    return results\n",
    "\n",
    "x_train = vectorize_sequences(train_data)\n",
    "y_train = np.asarray(train_labels).astype('float32')\n",
    "\n",
    "x_test = vectorize_sequences(test_data)\n",
    "y_test = np.asarray(test_labels).astype('float32')"
   ]
  },
  {
   "cell_type": "code",
   "execution_count": 6,
   "id": "7acffcad",
   "metadata": {},
   "outputs": [
    {
     "name": "stdout",
     "output_type": "stream",
     "text": [
      "(25000, 10000)\n"
     ]
    }
   ],
   "source": [
    "print(x_train.shape)"
   ]
  },
  {
   "cell_type": "code",
   "execution_count": 7,
   "id": "57ef5bfe",
   "metadata": {},
   "outputs": [],
   "source": [
    "from keras.models import Sequential\n",
    "from keras.layers import Dense\n",
    "from keras import optimizers\n",
    "from keras import losses\n",
    "from keras import metrics"
   ]
  },
  {
   "cell_type": "code",
   "execution_count": 8,
   "id": "45069a98",
   "metadata": {},
   "outputs": [],
   "source": [
    "model = Sequential([\n",
    "    Dense(16, activation='relu', input_shape=(10000,)),\n",
    "    Dense(16, activation='relu'),\n",
    "    Dense(1, activation='sigmoid'),                    \n",
    "])"
   ]
  },
  {
   "cell_type": "code",
   "execution_count": 9,
   "id": "04f9510f",
   "metadata": {},
   "outputs": [],
   "source": [
    "model.compile(optimizer='rmsprop',\n",
    "              loss='binary_crossentropy',\n",
    "              metrics=['accuracy'])"
   ]
  },
  {
   "cell_type": "code",
   "execution_count": 10,
   "id": "caf4090c",
   "metadata": {},
   "outputs": [
    {
     "name": "stdout",
     "output_type": "stream",
     "text": [
      "Model: \"sequential\"\n",
      "_________________________________________________________________\n",
      " Layer (type)                Output Shape              Param #   \n",
      "=================================================================\n",
      " dense (Dense)               (None, 16)                160016    \n",
      "                                                                 \n",
      " dense_1 (Dense)             (None, 16)                272       \n",
      "                                                                 \n",
      " dense_2 (Dense)             (None, 1)                 17        \n",
      "                                                                 \n",
      "=================================================================\n",
      "Total params: 160,305\n",
      "Trainable params: 160,305\n",
      "Non-trainable params: 0\n",
      "_________________________________________________________________\n"
     ]
    }
   ],
   "source": [
    "model.summary()"
   ]
  },
  {
   "cell_type": "code",
   "execution_count": 11,
   "id": "9b8df243",
   "metadata": {},
   "outputs": [],
   "source": [
    "x_val = x_train[:10000]\n",
    "partial_x_train = x_train[10000:]\n",
    "\n",
    "y_val = y_train[:10000]\n",
    "partial_y_train = y_train[10000:]"
   ]
  },
  {
   "cell_type": "code",
   "execution_count": 12,
   "id": "0e0aa017",
   "metadata": {},
   "outputs": [
    {
     "name": "stdout",
     "output_type": "stream",
     "text": [
      "Epoch 1/10\n",
      "30/30 [==============================] - 1s 30ms/step - loss: 0.5043 - accuracy: 0.7801 - val_loss: 0.3686 - val_accuracy: 0.8739\n",
      "Epoch 2/10\n",
      "30/30 [==============================] - 0s 14ms/step - loss: 0.3038 - accuracy: 0.8977 - val_loss: 0.3506 - val_accuracy: 0.8560\n",
      "Epoch 3/10\n",
      "30/30 [==============================] - 0s 14ms/step - loss: 0.2319 - accuracy: 0.9245 - val_loss: 0.2862 - val_accuracy: 0.8861\n",
      "Epoch 4/10\n",
      "30/30 [==============================] - 0s 13ms/step - loss: 0.1875 - accuracy: 0.9389 - val_loss: 0.2882 - val_accuracy: 0.8857\n",
      "Epoch 5/10\n",
      "30/30 [==============================] - 0s 14ms/step - loss: 0.1564 - accuracy: 0.9481 - val_loss: 0.2869 - val_accuracy: 0.8861\n",
      "Epoch 6/10\n",
      "30/30 [==============================] - 0s 16ms/step - loss: 0.1351 - accuracy: 0.9562 - val_loss: 0.2964 - val_accuracy: 0.8802\n",
      "Epoch 7/10\n",
      "30/30 [==============================] - 0s 14ms/step - loss: 0.1143 - accuracy: 0.9649 - val_loss: 0.3068 - val_accuracy: 0.8783\n",
      "Epoch 8/10\n",
      "30/30 [==============================] - 0s 16ms/step - loss: 0.0979 - accuracy: 0.9715 - val_loss: 0.3120 - val_accuracy: 0.8833\n",
      "Epoch 9/10\n",
      "30/30 [==============================] - 0s 14ms/step - loss: 0.0834 - accuracy: 0.9755 - val_loss: 0.3436 - val_accuracy: 0.8787\n",
      "Epoch 10/10\n",
      "30/30 [==============================] - 0s 13ms/step - loss: 0.0720 - accuracy: 0.9801 - val_loss: 0.3495 - val_accuracy: 0.8805\n"
     ]
    }
   ],
   "source": [
    "history = model.fit(\n",
    "    partial_x_train, \n",
    "    partial_y_train, \n",
    "    epochs=10,\n",
    "    batch_size=512,\n",
    "    validation_data=(x_val, y_val)\n",
    ")"
   ]
  },
  {
   "cell_type": "code",
   "execution_count": 13,
   "id": "81e4f633",
   "metadata": {},
   "outputs": [
    {
     "name": "stdout",
     "output_type": "stream",
     "text": [
      "782/782 [==============================] - 1s 1ms/step - loss: 0.3755 - accuracy: 0.8681\n",
      "Правильні відповіді у відсотках 86.81\n"
     ]
    }
   ],
   "source": [
    "scores = model.evaluate(x_test, y_test, verbose=1)\n",
    "print (\"Правильні відповіді у відсотках\", round (scores[1] * 100,2))"
   ]
  },
  {
   "cell_type": "code",
   "execution_count": 14,
   "id": "577661d3",
   "metadata": {},
   "outputs": [
    {
     "name": "stdout",
     "output_type": "stream",
     "text": [
      "dict_keys(['loss', 'accuracy', 'val_loss', 'val_accuracy'])\n"
     ]
    }
   ],
   "source": [
    "print(history.history.keys())"
   ]
  },
  {
   "cell_type": "code",
   "execution_count": 15,
   "id": "382b0d93",
   "metadata": {},
   "outputs": [],
   "source": [
    "import matplotlib.pyplot as plt"
   ]
  },
  {
   "cell_type": "code",
   "execution_count": 16,
   "id": "30c4812e",
   "metadata": {},
   "outputs": [],
   "source": [
    "history_dict = history.history\n",
    "loss_values = history_dict['loss']\n",
    "val_loss_values = history_dict['val_loss']\n",
    "\n",
    "epochs = range(1, len(history_dict['accuracy']) + 1)"
   ]
  },
  {
   "cell_type": "code",
   "execution_count": 18,
   "id": "d0dd9058",
   "metadata": {},
   "outputs": [
    {
     "data": {
      "image/png": "[encoded data removed]",
      "text/plain": [
       "<Figure size 640x480 with 1 Axes>"
      ]
     },
     "metadata": {},
     "output_type": "display_data"
    },
    {
     "data": {
      "text/plain": [
       "<matplotlib.legend.Legend at 0x1e89ed5e770>"
      ]
     },
     "execution_count": 18,
     "metadata": {},
     "output_type": "execute_result"
    },
    {
     "data": {
      "image/png": "[encoded data removed]",
      "text/plain": [
       "<Figure size 640x480 with 1 Axes>"
      ]
     },
     "metadata": {},
     "output_type": "display_data"
    }
   ],
   "source": [
    "plt.plot(epochs, loss_values, 'bo', label='Втрата навчання')\n",
    "plt.plot(epochs, val_loss_values, 'b', label='Втрата перевірки')\n",
    "plt.title('Втрата навчання і перевірки')\n",
    "plt.xlabel('Епохи')\n",
    "plt.ylabel('Втрата')\n",
    "plt.legend()\n",
    "plt.show()\n",
    "\n",
    "plt.clf()\n",
    "val_acc_values = history_dict['val_accuracy']\n",
    "plt.plot(epochs, history_dict['accuracy'], 'bo', label='Точність навчання ')\n",
    "plt.plot(epochs, history_dict['val_accuracy'], 'b', label='Точність перевірки ')\n",
    "plt.title('Точність навчання і перевірки ')\n",
    "plt.xlabel('Епохи')\n",
    "plt.ylabel('Втрата')\n",
    "plt.legend()"
   ]
  },
  {
   "cell_type": "code",
   "execution_count": 19,
   "id": "bd68cec8",
   "metadata": {},
   "outputs": [
    {
     "name": "stdout",
     "output_type": "stream",
     "text": [
      "782/782 [==============================] - 1s 1ms/step - loss: 0.3755 - accuracy: 0.8681\n",
      "[0.37547066807746887, 0.868120014667511]\n"
     ]
    }
   ],
   "source": [
    "results = model.evaluate(x_test, y_test)\n",
    "print(results)"
   ]
  },
  {
   "cell_type": "code",
   "execution_count": 30,
   "id": "179cffab",
   "metadata": {},
   "outputs": [
    {
     "name": "stdout",
     "output_type": "stream",
     "text": [
      "Epoch 1/5\n",
      "49/49 [==============================] - 2s 9ms/step - loss: 0.4786 - accuracy: 0.8092\n",
      "Epoch 2/5\n",
      "49/49 [==============================] - 0s 8ms/step - loss: 0.2823 - accuracy: 0.8980\n",
      "Epoch 3/5\n",
      "49/49 [==============================] - 0s 8ms/step - loss: 0.2209 - accuracy: 0.9205\n",
      "Epoch 4/5\n",
      "49/49 [==============================] - 0s 8ms/step - loss: 0.1881 - accuracy: 0.9321\n",
      "Epoch 5/5\n",
      "49/49 [==============================] - 0s 8ms/step - loss: 0.1662 - accuracy: 0.9400\n",
      "782/782 [==============================] - 1s 1ms/step - loss: 0.3025 - accuracy: 0.8801\n",
      "[0.3025174140930176, 0.880079984664917]\n"
     ]
    }
   ],
   "source": [
    "from keras import layers\n",
    "\n",
    "model = Sequential()\n",
    "model.add(layers.Dense(16, activation='relu', input_shape=(10000,)))\n",
    "model.add(layers.Dense(16, activation='relu'))\n",
    "model.add(layers.Dense(1, activation='sigmoid'))\n",
    "model.compile(optimizer='rmsprop',\n",
    "              loss='binary_crossentropy',\n",
    "              metrics=['accuracy'])\n",
    "model.fit(x_train, y_train, epochs=5, batch_size=512)\n",
    "results = model.evaluate(x_test, y_test)\n",
    "print(results)"
   ]
  },
  {
   "cell_type": "code",
   "execution_count": 31,
   "id": "fd0e0420",
   "metadata": {},
   "outputs": [
    {
     "name": "stdout",
     "output_type": "stream",
     "text": [
      "782/782 [==============================] - 1s 1ms/step - loss: 0.3025 - accuracy: 0.8801\n",
      "1/1 [==============================] - 0s 42ms/step\n",
      "[[0.25364116]]\n"
     ]
    }
   ],
   "source": [
    "results = model.evaluate(x_test, y_test)\n",
    "result = model.predict(x_test[0, :].reshape(1, 10000))\n",
    "print(result)"
   ]
  },
  {
   "cell_type": "code",
   "execution_count": 35,
   "id": "566d6539",
   "metadata": {},
   "outputs": [
    {
     "name": "stdout",
     "output_type": "stream",
     "text": [
      "[[0.25364116]]\n"
     ]
    }
   ],
   "source": [
    "print (result)"
   ]
  },
  {
   "cell_type": "code",
   "execution_count": null,
   "id": "254067d2",
   "metadata": {},
   "outputs": [],
   "source": []
  }
 ],
 "metadata": {
  "kernelspec": {
   "display_name": "Python 3 (ipykernel)",
   "language": "python",
   "name": "python3"
  },
  "language_info": {
   "codemirror_mode": {
    "name": "ipython",
    "version": 3
   },
   "file_extension": ".py",
   "mimetype": "text/x-python",
   "name": "python",
   "nbconvert_exporter": "python",
   "pygments_lexer": "ipython3",
   "version": "3.10.8"
  }
 },
 "nbformat": 4,
 "nbformat_minor": 5
}
