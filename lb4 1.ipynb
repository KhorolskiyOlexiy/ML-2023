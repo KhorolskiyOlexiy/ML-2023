{
  "cells": [
    {
      "cell_type": "code",
      "source": [
        "import tensorflow as tf\n",
        "from tensorflow.keras import datasets, layers, models\n",
        "import matplotlib.pyplot as plt"
      ],
      "outputs": [],
      "execution_count": 4,
      "metadata": {},
      "id": "764f96df"
    },
    {
      "cell_type": "code",
      "source": [
        "(train_images, train_labels), (test_images, test_labels) = datasets.fashion_mnist.load_data()"
      ],
      "outputs": [],
      "execution_count": 5,
      "metadata": {},
      "id": "1eb574b9"
    },
    {
      "cell_type": "code",
      "source": [
        "print(\"Розмір тренувальної вибірки:\", train_images.shape)\n",
        "print(\"Розмір тестової вибірки:\", test_images.shape)"
      ],
      "outputs": [
        {
          "output_type": "stream",
          "name": "stdout",
          "text": "Розмір тренувальної вибірки: (60000, 28, 28)\nРозмір тестової вибірки: (10000, 28, 28)\n"
        }
      ],
      "execution_count": 6,
      "metadata": {},
      "id": "c9bc9bfd"
    },
    {
      "cell_type": "code",
      "source": [
        "model = models.Sequential()\n",
        "model.add(layers.Conv2D(64, (3, 3), activation='relu', input_shape=(28, 28, 1)))\n",
        "model.add(layers.MaxPooling2D((2, 2)))"
      ],
      "outputs": [],
      "execution_count": 8,
      "metadata": {},
      "id": "3fce515a"
    },
    {
      "cell_type": "code",
      "source": [
        "model.add(layers.Conv2D(64, (3, 3), activation='relu'))\n",
        "model.add(layers.MaxPooling2D((2, 2)))\n",
        "model.add(layers.Conv2D(64, (3, 3), activation='relu'))\n"
      ],
      "outputs": [],
      "execution_count": 9,
      "metadata": {},
      "id": "9df86661"
    },
    {
      "cell_type": "code",
      "source": [
        "model.add(layers.Flatten())\n",
        "model.add(layers.Dense(64, activation='relu'))\n",
        "model.add(layers.Dense(10, activation='softmax'))\n"
      ],
      "outputs": [],
      "execution_count": 10,
      "metadata": {},
      "id": "fb58d983"
    },
    {
      "cell_type": "code",
      "source": [
        "model.summary()"
      ],
      "outputs": [
        {
          "output_type": "stream",
          "name": "stdout",
          "text": "Model: \"sequential\"\n_________________________________________________________________\n Layer (type)                Output Shape              Param #   \n=================================================================\n conv2d (Conv2D)             (None, 26, 26, 64)        640       \n                                                                 \n max_pooling2d (MaxPooling2D  (None, 13, 13, 64)       0         \n )                                                               \n                                                                 \n conv2d_1 (Conv2D)           (None, 11, 11, 64)        36928     \n                                                                 \n max_pooling2d_1 (MaxPooling  (None, 5, 5, 64)         0         \n 2D)                                                             \n                                                                 \n conv2d_2 (Conv2D)           (None, 3, 3, 64)          36928     \n                                                                 \n flatten (Flatten)           (None, 576)               0         \n                                                                 \n dense (Dense)               (None, 64)                36928     \n                                                                 \n dense_1 (Dense)             (None, 10)                650       \n                                                                 \n=================================================================\nTotal params: 112,074\nTrainable params: 112,074\nNon-trainable params: 0\n_________________________________________________________________\n"
        }
      ],
      "execution_count": 11,
      "metadata": {},
      "id": "3f09ff39"
    },
    {
      "cell_type": "code",
      "source": [
        "model.compile(optimizer='adam',\n",
        "              loss='sparse_categorical_crossentropy',\n",
        "              metrics=['accuracy'])\n",
        "\n",
        "history = model.fit(train_images.reshape(-1,28,28,1), train_labels, epochs=10,\n",
        "                    validation_data=(test_images.reshape(-1,28,28,1), test_labels))"
      ],
      "outputs": [
        {
          "output_type": "stream",
          "name": "stdout",
          "text": "Epoch 1/10\n1875/1875 [==============================] - 226s 120ms/step - loss: 0.5124 - accuracy: 0.8275 - val_loss: 0.3889 - val_accuracy: 0.8610\nEpoch 2/10\n1875/1875 [==============================] - 218s 116ms/step - loss: 0.3372 - accuracy: 0.8787 - val_loss: 0.3328 - val_accuracy: 0.8801\nEpoch 3/10\n1875/1875 [==============================] - 177s 94ms/step - loss: 0.2994 - accuracy: 0.8907 - val_loss: 0.3278 - val_accuracy: 0.8828\nEpoch 4/10\n1875/1875 [==============================] - 226s 121ms/step - loss: 0.2749 - accuracy: 0.8988 - val_loss: 0.3133 - val_accuracy: 0.8891\nEpoch 5/10\n1875/1875 [==============================] - 204s 109ms/step - loss: 0.2575 - accuracy: 0.9057 - val_loss: 0.3024 - val_accuracy: 0.8914\nEpoch 6/10\n1875/1875 [==============================] - 183s 98ms/step - loss: 0.2400 - accuracy: 0.9106 - val_loss: 0.3084 - val_accuracy: 0.8907\nEpoch 7/10\n1875/1875 [==============================] - 185s 99ms/step - loss: 0.2279 - accuracy: 0.9151 - val_loss: 0.3145 - val_accuracy: 0.8901\nEpoch 8/10\n1875/1875 [==============================] - 195s 104ms/step - loss: 0.2114 - accuracy: 0.9197 - val_loss: 0.3028 - val_accuracy: 0.8991\nEpoch 9/10\n1875/1875 [==============================] - 189s 101ms/step - loss: 0.2014 - accuracy: 0.9246 - val_loss: 0.3316 - val_accuracy: 0.8994\nEpoch 10/10\n1875/1875 [==============================] - 196s 104ms/step - loss: 0.1921 - accuracy: 0.9290 - val_loss: 0.3319 - val_accuracy: 0.8920\n"
        }
      ],
      "execution_count": 12,
      "metadata": {},
      "id": "467e2d82"
    },
    {
      "cell_type": "code",
      "source": [
        "model.save('fashion_mnist_model.h5')"
      ],
      "outputs": [],
      "execution_count": 13,
      "metadata": {},
      "id": "442e2d59"
    },
    {
      "cell_type": "code",
      "source": [
        "test_loss, test_acc = model.evaluate(test_images.reshape(-1,28,28,1),  test_labels, verbose=2)\n",
        "\n",
        "print('\\\\nТочність на тестових даних:', test_acc)"
      ],
      "outputs": [
        {
          "output_type": "stream",
          "name": "stdout",
          "text": "313/313 - 6s - loss: 0.3319 - accuracy: 0.8920 - 6s/epoch - 19ms/step\n\\nТочність на тестових даних: 0.8920000195503235\n"
        }
      ],
      "execution_count": 14,
      "metadata": {},
      "id": "a73b1154"
    },
    {
      "cell_type": "code",
      "source": [
        "predictions = model.predict(test_images.reshape(-1,28,28,1))\n",
        "\n",
        "num_rows = 5\n",
        "num_cols = 3\n",
        "num_images = num_rows*num_cols\n",
        "plt.figure(figsize=(2*2*num_cols, 2*num_rows))\n",
        "for i in range(num_images):\n",
        "    plt.subplot(num_rows, 2*num_cols, 2*i+1)\n",
        "    plt.imshow(test_images[i], cmap=plt.cm.binary)\n",
        "    plt.xticks([])\n",
        "    plt.yticks([])\n",
        "    predicted_label = tf.argmax(predictions[i])\n",
        "    true_label = test_labels[i]\n",
        "    if predicted_label == true_label:\n",
        "        color = 'green'\n",
        "    else:\n",
        "        color = 'red'\n",
        "    plt.xlabel(\"{} ({})\".format(class_names[predicted_label],\n",
        "                                  class_names[true_label]),color=color)\n",
        "plt.show()\n"
      ],
      "outputs": [
        {
          "output_type": "stream",
          "name": "stdout",
          "text": "313/313 [==============================] - 5s 14ms/step\n"
        },
        {
          "output_type": "error",
          "ename": "NameError",
          "evalue": "name 'class_names' is not defined",
          "traceback": [
            "\u001b[1;31m---------------------------------------------------------------------------\u001b[0m",
            "\u001b[1;31mNameError\u001b[0m                                 Traceback (most recent call last)",
            "Cell \u001b[1;32mIn[15], line 18\u001b[0m\n\u001b[0;32m     16\u001b[0m     \u001b[38;5;28;01melse\u001b[39;00m:\n\u001b[0;32m     17\u001b[0m         color \u001b[38;5;241m=\u001b[39m \u001b[38;5;124m'\u001b[39m\u001b[38;5;124mred\u001b[39m\u001b[38;5;124m'\u001b[39m\n\u001b[1;32m---> 18\u001b[0m     plt\u001b[38;5;241m.\u001b[39mxlabel(\u001b[38;5;124m\"\u001b[39m\u001b[38;5;132;01m{}\u001b[39;00m\u001b[38;5;124m (\u001b[39m\u001b[38;5;132;01m{}\u001b[39;00m\u001b[38;5;124m)\u001b[39m\u001b[38;5;124m\"\u001b[39m\u001b[38;5;241m.\u001b[39mformat(\u001b[43mclass_names\u001b[49m[predicted_label],\n\u001b[0;32m     19\u001b[0m                                   class_names[true_label]),color\u001b[38;5;241m=\u001b[39mcolor)\n\u001b[0;32m     20\u001b[0m plt\u001b[38;5;241m.\u001b[39mshow()\n",
            "\u001b[1;31mNameError\u001b[0m: name 'class_names' is not defined"
          ]
        },
        {
          "output_type": "display_data",
          "data": {
            "image/png": "[encoded data removed]",
            "text/plain": "<Figure size 1200x1000 with 1 Axes>"
          },
          "metadata": {}
        }
      ],
      "execution_count": 15,
      "metadata": {},
      "id": "edd291e3"
    },
    {
      "cell_type": "code",
      "source": [],
      "outputs": [],
      "execution_count": null,
      "metadata": {},
      "id": "48dc8673"
    }
  ],
  "metadata": {
    "kernelspec": {
      "name": "python",
      "language": "python",
      "display_name": "Pyolite (preview)"
    },
    "language_info": {
      "codemirror_mode": {
        "name": "python",
        "version": 3
      },
      "file_extension": ".py",
      "mimetype": "text/x-python",
      "name": "python",
      "nbconvert_exporter": "python",
      "pygments_lexer": "ipython3",
      "version": "3.8"
    },
    "kernel_info": {
      "name": "python"
    },
    "nteract": {
      "version": "nteract-front-end@1.0.0"
    }
  },
  "nbformat": 4,
  "nbformat_minor": 5
}